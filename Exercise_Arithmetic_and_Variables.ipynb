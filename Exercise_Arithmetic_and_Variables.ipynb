{
  "metadata": {
    "kernelspec": {
      "display_name": "Python 3",
      "language": "python",
      "name": "python3"
    },
    "language_info": {
      "name": "python",
      "version": "3.10.14",
      "mimetype": "text/x-python",
      "codemirror_mode": {
        "name": "ipython",
        "version": 3
      },
      "pygments_lexer": "ipython3",
      "nbconvert_exporter": "python",
      "file_extension": ".py"
    },
    "kaggle": {
      "accelerator": "none",
      "dataSources": [
        {
          "sourceId": 3136,
          "databundleVersionId": 26502,
          "sourceType": "competition"
        }
      ],
      "isInternetEnabled": false,
      "language": "python",
      "sourceType": "notebook",
      "isGpuEnabled": false
    },
    "colab": {
      "name": "Exercise: Arithmetic and Variables",
      "provenance": [],
      "include_colab_link": true
    }
  },
  "nbformat_minor": 0,
  "nbformat": 4,
  "cells": [
    {
      "cell_type": "markdown",
      "metadata": {
        "id": "view-in-github",
        "colab_type": "text"
      },
      "source": [
        "<a href=\"https://colab.research.google.com/github/Charlie174/intro_programing_kaggle/blob/main/Exercise_Arithmetic_and_Variables.ipynb\" target=\"_parent\"><img src=\"https://colab.research.google.com/assets/colab-badge.svg\" alt=\"Open In Colab\"/></a>"
      ]
    },
    {
      "source": [
        "\n",
        "# IMPORTANT: RUN THIS CELL IN ORDER TO IMPORT YOUR KAGGLE DATA SOURCES\n",
        "# TO THE CORRECT LOCATION (/kaggle/input) IN YOUR NOTEBOOK,\n",
        "# THEN FEEL FREE TO DELETE THIS CELL.\n",
        "# NOTE: THIS NOTEBOOK ENVIRONMENT DIFFERS FROM KAGGLE'S PYTHON\n",
        "# ENVIRONMENT SO THERE MAY BE MISSING LIBRARIES USED BY YOUR\n",
        "# NOTEBOOK.\n",
        "\n",
        "import os\n",
        "import sys\n",
        "from tempfile import NamedTemporaryFile\n",
        "from urllib.request import urlopen\n",
        "from urllib.parse import unquote, urlparse\n",
        "from urllib.error import HTTPError\n",
        "from zipfile import ZipFile\n",
        "import tarfile\n",
        "import shutil\n",
        "\n",
        "CHUNK_SIZE = 40960\n",
        "DATA_SOURCE_MAPPING = 'titanic:https%3A%2F%2Fstorage.googleapis.com%2Fkaggle-competitions-data%2Fkaggle-v2%2F3136%2F26502%2Fbundle%2Farchive.zip%3FX-Goog-Algorithm%3DGOOG4-RSA-SHA256%26X-Goog-Credential%3Dgcp-kaggle-com%2540kaggle-161607.iam.gserviceaccount.com%252F20240923%252Fauto%252Fstorage%252Fgoog4_request%26X-Goog-Date%3D20240923T065336Z%26X-Goog-Expires%3D259200%26X-Goog-SignedHeaders%3Dhost%26X-Goog-Signature%3D91544b4c2b4adbb53a10deb4b90ecef9e9151a1d3474c3f2de4917091d6e66225475267e533d872627c8e1f8283115a6c3b6c220463548018dc05909753c5e064892c41908c5b4d26190d1866ef17fb36280d2821ab4435e2144c63cac7e33fd87f8268439d698f98ccf40c457ed7f18d3a52f96961bd8a56aba14f0705e800275b3eab97c1dd269e040f2275878eac2653f84d1cb9e608d60db8e085343295ae5456f585466a9fd11deda8d2ad767bc18581257c78398fd362bb44441786696d145aacdb7ff92e0a3294c16e56a153e37b6abfd0b47726f80ed7e2c5a84d81c777c473b317ef6e53a3547c704b8520f600a74d9cb95240dac680c5d04841771'\n",
        "\n",
        "KAGGLE_INPUT_PATH='/kaggle/input'\n",
        "KAGGLE_WORKING_PATH='/kaggle/working'\n",
        "KAGGLE_SYMLINK='kaggle'\n",
        "\n",
        "!umount /kaggle/input/ 2> /dev/null\n",
        "shutil.rmtree('/kaggle/input', ignore_errors=True)\n",
        "os.makedirs(KAGGLE_INPUT_PATH, 0o777, exist_ok=True)\n",
        "os.makedirs(KAGGLE_WORKING_PATH, 0o777, exist_ok=True)\n",
        "\n",
        "try:\n",
        "  os.symlink(KAGGLE_INPUT_PATH, os.path.join(\"..\", 'input'), target_is_directory=True)\n",
        "except FileExistsError:\n",
        "  pass\n",
        "try:\n",
        "  os.symlink(KAGGLE_WORKING_PATH, os.path.join(\"..\", 'working'), target_is_directory=True)\n",
        "except FileExistsError:\n",
        "  pass\n",
        "\n",
        "for data_source_mapping in DATA_SOURCE_MAPPING.split(','):\n",
        "    directory, download_url_encoded = data_source_mapping.split(':')\n",
        "    download_url = unquote(download_url_encoded)\n",
        "    filename = urlparse(download_url).path\n",
        "    destination_path = os.path.join(KAGGLE_INPUT_PATH, directory)\n",
        "    try:\n",
        "        with urlopen(download_url) as fileres, NamedTemporaryFile() as tfile:\n",
        "            total_length = fileres.headers['content-length']\n",
        "            print(f'Downloading {directory}, {total_length} bytes compressed')\n",
        "            dl = 0\n",
        "            data = fileres.read(CHUNK_SIZE)\n",
        "            while len(data) > 0:\n",
        "                dl += len(data)\n",
        "                tfile.write(data)\n",
        "                done = int(50 * dl / int(total_length))\n",
        "                sys.stdout.write(f\"\\r[{'=' * done}{' ' * (50-done)}] {dl} bytes downloaded\")\n",
        "                sys.stdout.flush()\n",
        "                data = fileres.read(CHUNK_SIZE)\n",
        "            if filename.endswith('.zip'):\n",
        "              with ZipFile(tfile) as zfile:\n",
        "                zfile.extractall(destination_path)\n",
        "            else:\n",
        "              with tarfile.open(tfile.name) as tarfile:\n",
        "                tarfile.extractall(destination_path)\n",
        "            print(f'\\nDownloaded and uncompressed: {directory}')\n",
        "    except HTTPError as e:\n",
        "        print(f'Failed to load (likely expired) {download_url} to path {destination_path}')\n",
        "        continue\n",
        "    except OSError as e:\n",
        "        print(f'Failed to load {download_url} to path {destination_path}')\n",
        "        continue\n",
        "\n",
        "print('Data source import complete.')\n"
      ],
      "metadata": {
        "id": "V605r9jyqEBo"
      },
      "cell_type": "code",
      "outputs": [],
      "execution_count": null
    },
    {
      "cell_type": "markdown",
      "source": [
        "**This notebook is an exercise in the [Intro to Programming](https://www.kaggle.com/learn/intro-to-programming) course.  You can reference the tutorial at [this link](https://www.kaggle.com/alexisbcook/arithmetic-and-variables).**\n",
        "\n",
        "---\n"
      ],
      "metadata": {
        "id": "seWWNcHDqEBq"
      }
    },
    {
      "cell_type": "markdown",
      "source": [
        "This exercise will get you started with running your own code.  \n",
        "\n",
        "# Set up the notebook\n",
        "\n",
        "To begin, run the code in the next cell.\n",
        "- Begin by clicking inside the code cell.  \n",
        "- Click on the triangle (in the shape of a \"Play button\") that appears to the left of the code cell.\n",
        "- If your code was run sucessfully, you will see `Setup Complete` as output below the cell.\n",
        "\n",
        "Instead of clicking on the triangle, you can also run code by pressing Shift + Enter on your keyboard.  Try this now!  Nothing bad will happen if you run the code more than once."
      ],
      "metadata": {
        "id": "y3YCKjNfqEBr"
      }
    },
    {
      "cell_type": "code",
      "source": [
        "# Set up the exercise\n",
        "from learntools.core import binder\n",
        "binder.bind(globals())\n",
        "from learntools.intro_to_programming.ex1 import *\n",
        "print('Setup complete.')"
      ],
      "metadata": {
        "execution": {
          "iopub.status.busy": "2024-09-23T06:52:55.484671Z",
          "iopub.execute_input": "2024-09-23T06:52:55.485452Z",
          "iopub.status.idle": "2024-09-23T06:52:55.493467Z",
          "shell.execute_reply.started": "2024-09-23T06:52:55.485373Z",
          "shell.execute_reply": "2024-09-23T06:52:55.491768Z"
        },
        "trusted": true,
        "id": "wq73woq9qEBs",
        "outputId": "646b6cf6-acb0-4884-8a73-a51a71f33e80"
      },
      "execution_count": null,
      "outputs": [
        {
          "name": "stdout",
          "text": "Setup complete.\n",
          "output_type": "stream"
        }
      ]
    },
    {
      "cell_type": "markdown",
      "source": [
        "The code above sets up the notebook so that it can check your answers in this exercise.  You should never modify this code.  (Otherwise, the notebook won't be able to verify that you have successfully completed the exercise.)\n",
        "\n",
        "After finishing all of the questions below, you'll see the exercise marked as complete on the [course page](http://www.kaggle.com/learn/intro-to-programming).  Once you complete all of the lessons, you'll get a course completion certificate!\n",
        "\n",
        "# Question 1\n",
        "\n",
        "Next, you will run some code from the tutorial, so you can see how it works for yourself.  Run the next code cell without changes."
      ],
      "metadata": {
        "id": "l0rbPtkuqEBs"
      }
    },
    {
      "cell_type": "code",
      "source": [
        "print(\"Hello, world!\")\n",
        "\n",
        "# DO NOT REMOVE: Mark this question as completed\n",
        "q1.check()"
      ],
      "metadata": {
        "execution": {
          "iopub.status.busy": "2024-09-23T06:52:55.496223Z",
          "iopub.execute_input": "2024-09-23T06:52:55.49675Z",
          "iopub.status.idle": "2024-09-23T06:52:55.515436Z",
          "shell.execute_reply.started": "2024-09-23T06:52:55.496697Z",
          "shell.execute_reply": "2024-09-23T06:52:55.514169Z"
        },
        "trusted": true,
        "id": "GRPI4E_xqEBt",
        "outputId": "e51849df-4483-42ca-8a9e-fd3fc78a45de"
      },
      "execution_count": null,
      "outputs": [
        {
          "name": "stdout",
          "text": "Hello, world!\n",
          "output_type": "stream"
        },
        {
          "output_type": "display_data",
          "data": {
            "text/plain": "<IPython.core.display.Javascript object>",
            "application/javascript": "parent.postMessage({\"jupyterEvent\": \"custom.exercise_interaction\", \"data\": {\"outcomeType\": 1, \"valueTowardsCompletion\": 0.2, \"interactionType\": 1, \"questionType\": 2, \"questionId\": \"1_RunHelloWorld\", \"learnToolsVersion\": \"0.3.4\", \"failureMessage\": \"\", \"exceptionClass\": \"\", \"trace\": \"\"}}, \"*\")"
          },
          "metadata": {}
        },
        {
          "output_type": "display_data",
          "data": {
            "text/plain": "If you see 'Hello, world!' above, You have successfully printed a message, and you're ready to move on to the next question.",
            "text/markdown": "<span style=\"color:#33cc33\">If you see 'Hello, world!' above, You have successfully printed a message, and you're ready to move on to the next question.</span>"
          },
          "metadata": {}
        }
      ]
    },
    {
      "cell_type": "markdown",
      "source": [
        "You just ran code to print `Hello world!`, which you should see in the output above.\n",
        "\n",
        "The second line of code (`q1.check()`) checks your answer.  You should never modify this checking code; if you remove it, you won't get credit for completing the problem.\n",
        "\n",
        "# Question 2\n",
        "\n",
        "Now, you will print another message of your choosing.  To do this, change `print(\"Your message here!\")` to use a different message.  For instance, you might like to change it to something like:\n",
        "- `print(\"Good morning!\")`\n",
        "- `print(\"I am learning how to code :D\")`\n",
        "\n",
        "Or, you might like to see what happens if you write something like `print(\"3+4\")`.  Does it return 7, or does it just think of `\"3+4\"` as just another message?\n",
        "\n",
        "Make sure that your message is enclosed in quotation marks (`\"`), and the message itself does not use quotation marks. For instance, this will throw an error: `print(\"She said \"great job\" and gave me a high-five!\")` because the message contains quotation marks.  If you decide to take the Python course after completing this course, you will learn more about how to avoid this error in [Lesson 6](https://www.kaggle.com/colinmorris/strings-and-dictionaries).\n",
        "\n",
        "Feel free to try out multiple messages!"
      ],
      "metadata": {
        "id": "Iv5WOJBWqEBt"
      }
    },
    {
      "cell_type": "code",
      "source": [
        "# TODO: Change the message\n",
        "print(\"Your message here!\")\n",
        "\n",
        "# DO NOT REMOVE: Mark this question as completed\n",
        "q2.check()"
      ],
      "metadata": {
        "execution": {
          "iopub.status.busy": "2024-09-23T06:52:55.517722Z",
          "iopub.execute_input": "2024-09-23T06:52:55.518516Z",
          "iopub.status.idle": "2024-09-23T06:52:55.532853Z",
          "shell.execute_reply.started": "2024-09-23T06:52:55.518457Z",
          "shell.execute_reply": "2024-09-23T06:52:55.531322Z"
        },
        "trusted": true,
        "id": "p8vBNIeaqEBt",
        "outputId": "b06a7531-7e52-4888-b9e0-4ae87e2923be"
      },
      "execution_count": null,
      "outputs": [
        {
          "name": "stdout",
          "text": "Your message here!\n",
          "output_type": "stream"
        },
        {
          "output_type": "display_data",
          "data": {
            "text/plain": "<IPython.core.display.Javascript object>",
            "application/javascript": "parent.postMessage({\"jupyterEvent\": \"custom.exercise_interaction\", \"data\": {\"outcomeType\": 1, \"valueTowardsCompletion\": 0.2, \"interactionType\": 1, \"questionType\": 2, \"questionId\": \"2_PrintAnotherMsg\", \"learnToolsVersion\": \"0.3.4\", \"failureMessage\": \"\", \"exceptionClass\": \"\", \"trace\": \"\"}}, \"*\")"
          },
          "metadata": {}
        },
        {
          "output_type": "display_data",
          "data": {
            "text/plain": "Once you have printed your own message, you're ready to move on to the next question.",
            "text/markdown": "<span style=\"color:#33cc33\">Once you have printed your own message, you're ready to move on to the next question.</span>"
          },
          "metadata": {}
        }
      ]
    },
    {
      "cell_type": "markdown",
      "source": [
        "# Question 3\n",
        "\n",
        "As you learned in the tutorial, a comment in Python has a pound sign (`#`) in front of it, which tells Python to ignore the text after it.\n",
        "\n",
        "Putting a pound sign in front of a line of code will make Python ignore that code.  For instance, this line would be ignored by Python, and nothing would appear in the output:\n",
        "```python\n",
        "#print(1+2)\n",
        "```\n",
        "Removing the pound sign will make it so that you can run the code again. When we remove the pound sign in front of a line of code, we call this **uncommenting**.\n",
        "\n",
        "In this problem, you will uncomment two lines in the code cell below and view the output:\n",
        "- Remove the `#` in front of `q3.hint()`.  To avoid errors, do NOT remove the `#` in front of `# Uncomment to view hint`.  \n",
        "- Next, remove the `#` in front of `q3.solution()`.\n",
        "\n",
        "As in the previous questions, do not change the final line of code that marks your work as completed."
      ],
      "metadata": {
        "id": "4NApXaSBqEBu"
      }
    },
    {
      "cell_type": "code",
      "source": [
        "# Uncomment to get a hint\n",
        "#q3.hint()\n",
        "\n",
        "# Uncomment to view solution\n",
        "#q3.solution()\n",
        "\n",
        "# DO NOT REMOVE: Check your answer\n",
        "q3.check()"
      ],
      "metadata": {
        "execution": {
          "iopub.status.busy": "2024-09-23T06:52:55.534531Z",
          "iopub.execute_input": "2024-09-23T06:52:55.535039Z",
          "iopub.status.idle": "2024-09-23T06:52:55.546876Z",
          "shell.execute_reply.started": "2024-09-23T06:52:55.534965Z",
          "shell.execute_reply": "2024-09-23T06:52:55.545361Z"
        },
        "trusted": true,
        "id": "SmGIgp70qEBu",
        "outputId": "98342e64-3129-45ec-ead2-780e4503d718"
      },
      "execution_count": null,
      "outputs": [
        {
          "output_type": "display_data",
          "data": {
            "text/plain": "<IPython.core.display.Javascript object>",
            "application/javascript": "parent.postMessage({\"jupyterEvent\": \"custom.exercise_interaction\", \"data\": {\"outcomeType\": 1, \"valueTowardsCompletion\": 0.2, \"interactionType\": 1, \"questionType\": 2, \"questionId\": \"3_LearnCheckingCode\", \"learnToolsVersion\": \"0.3.4\", \"failureMessage\": \"\", \"exceptionClass\": \"\", \"trace\": \"\"}}, \"*\")"
          },
          "metadata": {}
        },
        {
          "output_type": "display_data",
          "data": {
            "text/plain": "Once you have printed the hint and the solution, you're ready to move on to the next question.",
            "text/markdown": "<span style=\"color:#33cc33\">Once you have printed the hint and the solution, you're ready to move on to the next question.</span>"
          },
          "metadata": {}
        }
      ]
    },
    {
      "cell_type": "markdown",
      "source": [
        "In the next question, and in most of the exercises in this course, you will have the option to uncomment to view hints and solutions.  Once you feel comfortable with uncommenting, continue to the next question.\n"
      ],
      "metadata": {
        "id": "FHlFMMGNqEBu"
      }
    },
    {
      "cell_type": "markdown",
      "source": [
        "# Question 4\n",
        "\n",
        "In the tutorial, you defined several variables to calculate the total number of seconds in a year.  Run the next code cell to do the calculation here."
      ],
      "metadata": {
        "id": "BZl-46jwqEBu"
      }
    },
    {
      "cell_type": "code",
      "source": [
        "# Create variables\n",
        "num_years = 4\n",
        "days_per_year = 365\n",
        "hours_per_day = 24\n",
        "mins_per_hour = 60\n",
        "secs_per_min = 60\n",
        "\n",
        "# Calculate number of seconds in four years\n",
        "total_secs = secs_per_min * mins_per_hour * hours_per_day * days_per_year * num_years\n",
        "print(total_secs)"
      ],
      "metadata": {
        "execution": {
          "iopub.status.busy": "2024-09-23T06:52:55.55116Z",
          "iopub.execute_input": "2024-09-23T06:52:55.551746Z",
          "iopub.status.idle": "2024-09-23T06:52:55.561027Z",
          "shell.execute_reply.started": "2024-09-23T06:52:55.551672Z",
          "shell.execute_reply": "2024-09-23T06:52:55.559711Z"
        },
        "trusted": true,
        "id": "HYsPIfW6qEBu",
        "outputId": "1001bfed-3683-4a17-fa92-93f884c44a3c"
      },
      "execution_count": null,
      "outputs": [
        {
          "name": "stdout",
          "text": "126144000\n",
          "output_type": "stream"
        }
      ]
    },
    {
      "cell_type": "markdown",
      "source": [
        "Use the next code cell to:\n",
        "- Define a variable `births_per_min` and set it to 250.  (There are on average 250 babies born each minute.)\n",
        "- Define a variable `births_per_day` that contains the average number of babies born each day.  (To set the value of this variable, you should use `births_per_min` and some of the variables from the previous code cell.)\n",
        "\n",
        "Remember you can always get a hint if you need it!"
      ],
      "metadata": {
        "id": "FI460xRgqEBu"
      }
    },
    {
      "cell_type": "code",
      "source": [
        "# TODO: Set the value of the births_per_min variable\n",
        "births_per_min = ____\n",
        "\n",
        "# TODO: Set the value of the births_per_day variable\n",
        "births_per_day = ____\n",
        "\n",
        "# DO NOT REMOVE: Check your answer\n",
        "q4.check()"
      ],
      "metadata": {
        "execution": {
          "iopub.status.busy": "2024-09-23T06:52:55.563421Z",
          "iopub.execute_input": "2024-09-23T06:52:55.564056Z",
          "iopub.status.idle": "2024-09-23T06:52:55.582852Z",
          "shell.execute_reply.started": "2024-09-23T06:52:55.563967Z",
          "shell.execute_reply": "2024-09-23T06:52:55.581333Z"
        },
        "trusted": true,
        "id": "fAMvxEm8qEBv",
        "outputId": "58164b03-48db-483c-85b8-94cb39230c63"
      },
      "execution_count": null,
      "outputs": [
        {
          "output_type": "display_data",
          "data": {
            "text/plain": "<IPython.core.display.Javascript object>",
            "application/javascript": "parent.postMessage({\"jupyterEvent\": \"custom.exercise_interaction\", \"data\": {\"outcomeType\": 4, \"interactionType\": 1, \"questionType\": 1, \"questionId\": \"4_BirthsPerYear\", \"learnToolsVersion\": \"0.3.4\", \"valueTowardsCompletion\": 0.0, \"failureMessage\": \"\", \"exceptionClass\": \"\", \"trace\": \"\"}}, \"*\")"
          },
          "metadata": {}
        },
        {
          "output_type": "display_data",
          "data": {
            "text/plain": "Check: When you've updated the starter code, `check()` will tell you whether your code is correct. You need to update the code that creates variables `births_per_min`, `births_per_day`",
            "text/markdown": "<span style=\"color:#ccaa33\">Check:</span> When you've updated the starter code, `check()` will tell you whether your code is correct. You need to update the code that creates variables `births_per_min`, `births_per_day`"
          },
          "metadata": {}
        }
      ]
    },
    {
      "cell_type": "code",
      "source": [
        "# Uncomment to get a hint\n",
        "#q4.hint()\n",
        "\n",
        "# Uncomment to view solution\n",
        "#q4.solution()"
      ],
      "metadata": {
        "execution": {
          "iopub.status.busy": "2024-09-23T06:52:55.584871Z",
          "iopub.execute_input": "2024-09-23T06:52:55.585371Z",
          "iopub.status.idle": "2024-09-23T06:52:55.591052Z",
          "shell.execute_reply.started": "2024-09-23T06:52:55.585317Z",
          "shell.execute_reply": "2024-09-23T06:52:55.589694Z"
        },
        "trusted": true,
        "id": "Qp3mlSuyqEBv"
      },
      "execution_count": null,
      "outputs": []
    },
    {
      "cell_type": "markdown",
      "source": [
        "# 🌶️ Question 5\n",
        "\n",
        "(Questions marked with a 🌶️ will be a little bit more challenging than the others!  Remember you can always get a hint or view the solution.)\n",
        "\n",
        "The [Titanic competition](https://www.kaggle.com/c/titanic) is Kaggle's most famous data science competition. In this competition, participants are challenged to build a machine learning model that can predict whether or not passengers survived the Titanic shipwreck, based on information like age, sex, family size, and ticket number.\n",
        "\n",
        "Run the next code cell without changes to load and preview the titanic data.\n",
        "\n",
        "Don't worry about the details of the code for now - the end result is just that the all of the titanic data has been loaded in a variable named `titanic_data`.  (In order to learn how to write this code yourself, you can take the [Python course](https://www.kaggle.com/learn/python) and then the [Pandas course](https://www.kaggle.com/learn/pandas).)"
      ],
      "metadata": {
        "id": "XBQx2MGTqEBv"
      }
    },
    {
      "cell_type": "code",
      "source": [
        "# Load the data from the titanic competition\n",
        "import pandas as pd\n",
        "titanic_data = pd.read_csv(\"../input/titanic/train.csv\")\n",
        "\n",
        "# Show the first five rows of the data\n",
        "titanic_data.head()"
      ],
      "metadata": {
        "execution": {
          "iopub.status.busy": "2024-09-23T06:52:55.593103Z",
          "iopub.execute_input": "2024-09-23T06:52:55.593577Z",
          "iopub.status.idle": "2024-09-23T06:52:55.628127Z",
          "shell.execute_reply.started": "2024-09-23T06:52:55.593513Z",
          "shell.execute_reply": "2024-09-23T06:52:55.626606Z"
        },
        "trusted": true,
        "id": "kU2ujmuDqEBv",
        "outputId": "c00dd9a6-2866-4e2b-9d5a-6b9fc26a7460"
      },
      "execution_count": null,
      "outputs": [
        {
          "execution_count": 31,
          "output_type": "execute_result",
          "data": {
            "text/plain": "   PassengerId  Survived  Pclass  \\\n0            1         0       3   \n1            2         1       1   \n2            3         1       3   \n3            4         1       1   \n4            5         0       3   \n\n                                                Name     Sex   Age  SibSp  \\\n0                            Braund, Mr. Owen Harris    male  22.0      1   \n1  Cumings, Mrs. John Bradley (Florence Briggs Th...  female  38.0      1   \n2                             Heikkinen, Miss. Laina  female  26.0      0   \n3       Futrelle, Mrs. Jacques Heath (Lily May Peel)  female  35.0      1   \n4                           Allen, Mr. William Henry    male  35.0      0   \n\n   Parch            Ticket     Fare Cabin Embarked  \n0      0         A/5 21171   7.2500   NaN        S  \n1      0          PC 17599  71.2833   C85        C  \n2      0  STON/O2. 3101282   7.9250   NaN        S  \n3      0            113803  53.1000  C123        S  \n4      0            373450   8.0500   NaN        S  ",
            "text/html": "<div>\n<style scoped>\n    .dataframe tbody tr th:only-of-type {\n        vertical-align: middle;\n    }\n\n    .dataframe tbody tr th {\n        vertical-align: top;\n    }\n\n    .dataframe thead th {\n        text-align: right;\n    }\n</style>\n<table border=\"1\" class=\"dataframe\">\n  <thead>\n    <tr style=\"text-align: right;\">\n      <th></th>\n      <th>PassengerId</th>\n      <th>Survived</th>\n      <th>Pclass</th>\n      <th>Name</th>\n      <th>Sex</th>\n      <th>Age</th>\n      <th>SibSp</th>\n      <th>Parch</th>\n      <th>Ticket</th>\n      <th>Fare</th>\n      <th>Cabin</th>\n      <th>Embarked</th>\n    </tr>\n  </thead>\n  <tbody>\n    <tr>\n      <th>0</th>\n      <td>1</td>\n      <td>0</td>\n      <td>3</td>\n      <td>Braund, Mr. Owen Harris</td>\n      <td>male</td>\n      <td>22.0</td>\n      <td>1</td>\n      <td>0</td>\n      <td>A/5 21171</td>\n      <td>7.2500</td>\n      <td>NaN</td>\n      <td>S</td>\n    </tr>\n    <tr>\n      <th>1</th>\n      <td>2</td>\n      <td>1</td>\n      <td>1</td>\n      <td>Cumings, Mrs. John Bradley (Florence Briggs Th...</td>\n      <td>female</td>\n      <td>38.0</td>\n      <td>1</td>\n      <td>0</td>\n      <td>PC 17599</td>\n      <td>71.2833</td>\n      <td>C85</td>\n      <td>C</td>\n    </tr>\n    <tr>\n      <th>2</th>\n      <td>3</td>\n      <td>1</td>\n      <td>3</td>\n      <td>Heikkinen, Miss. Laina</td>\n      <td>female</td>\n      <td>26.0</td>\n      <td>0</td>\n      <td>0</td>\n      <td>STON/O2. 3101282</td>\n      <td>7.9250</td>\n      <td>NaN</td>\n      <td>S</td>\n    </tr>\n    <tr>\n      <th>3</th>\n      <td>4</td>\n      <td>1</td>\n      <td>1</td>\n      <td>Futrelle, Mrs. Jacques Heath (Lily May Peel)</td>\n      <td>female</td>\n      <td>35.0</td>\n      <td>1</td>\n      <td>0</td>\n      <td>113803</td>\n      <td>53.1000</td>\n      <td>C123</td>\n      <td>S</td>\n    </tr>\n    <tr>\n      <th>4</th>\n      <td>5</td>\n      <td>0</td>\n      <td>3</td>\n      <td>Allen, Mr. William Henry</td>\n      <td>male</td>\n      <td>35.0</td>\n      <td>0</td>\n      <td>0</td>\n      <td>373450</td>\n      <td>8.0500</td>\n      <td>NaN</td>\n      <td>S</td>\n    </tr>\n  </tbody>\n</table>\n</div>"
          },
          "metadata": {}
        }
      ]
    },
    {
      "cell_type": "markdown",
      "source": [
        "The data has a different row for each passenger.  \n",
        "\n",
        "The next code cell defines and prints the values of three variables:  \n",
        "- `total` = total number of passengers who boarded the ship\n",
        "- `survived` = number of passengers who survived the shipwreck\n",
        "- `minors` = number of passengers under 18 years of age\n",
        "\n",
        "Run the code cell without changes.  (Don't worry about the details of how these variables are calculated for now.  You can learn more about how to calculate these values in the [Pandas course](https://www.kaggle.com/learn/pandas).)"
      ],
      "metadata": {
        "id": "1WeQC9e2qEBv"
      }
    },
    {
      "cell_type": "code",
      "source": [
        "# Number of total passengers\n",
        "total = len(titanic_data)\n",
        "print(total)\n",
        "\n",
        "# Number of passengers who survived\n",
        "survived = (titanic_data.Survived == 1).sum()\n",
        "print(survived)\n",
        "\n",
        "# Number of passengers under 18\n",
        "minors = (titanic_data.Age < 18).sum()\n",
        "print(minors)"
      ],
      "metadata": {
        "execution": {
          "iopub.status.busy": "2024-09-23T06:52:55.631163Z",
          "iopub.execute_input": "2024-09-23T06:52:55.631859Z",
          "iopub.status.idle": "2024-09-23T06:52:55.644178Z",
          "shell.execute_reply.started": "2024-09-23T06:52:55.631795Z",
          "shell.execute_reply": "2024-09-23T06:52:55.641938Z"
        },
        "trusted": true,
        "id": "iMKjSGkLqEBv",
        "outputId": "82701518-ffc2-4ef9-9ab9-03259887368e"
      },
      "execution_count": null,
      "outputs": [
        {
          "name": "stdout",
          "text": "891\n342\n113\n",
          "output_type": "stream"
        }
      ]
    },
    {
      "cell_type": "markdown",
      "source": [
        "So,\n",
        "- `total = 891` (there were 891 passengers on board the Titanic),\n",
        "- `survived = 342` (342 passengers survived), and\n",
        "- `minors = 113` (113 passengers were under the age of 18).\n",
        "\n",
        "In the code cell below, replace the underlines (`____`) with code to calculate the values for two more variables:\n",
        "- `survived_fraction` should be set to the fraction of passengers who survived the Titanic disaster.\n",
        "- `minors_fraction` should be the fraction of passengers who were minors (under the age of 18).\n",
        "\n",
        "For each variable, your answer should be a number between 0 and 1.  \n",
        "\n",
        "If you need a hint or want to view the solution, you can skip to the next code cell and uncomment the appropriate lines of code (`q5.hint()` and `q5.solution()`)."
      ],
      "metadata": {
        "id": "hJuJTnM7qEBv"
      }
    },
    {
      "cell_type": "code",
      "source": [
        "# TODO: Fill in the value of the survived_fraction variable\n",
        "survived_fraction = ____\n",
        "\n",
        "# Print the value of the variable\n",
        "print(survived_fraction)\n",
        "\n",
        "# TODO: Fill in the value of the minors_fraction variable\n",
        "minors_fraction = ____\n",
        "\n",
        "# Print the value of the variable\n",
        "print(minors_fraction)\n",
        "\n",
        "# DO NOT REMOVE: Check your answer\n",
        "q5.check()"
      ],
      "metadata": {
        "execution": {
          "iopub.status.busy": "2024-09-23T06:52:55.647145Z",
          "iopub.execute_input": "2024-09-23T06:52:55.647743Z",
          "iopub.status.idle": "2024-09-23T06:52:55.665622Z",
          "shell.execute_reply.started": "2024-09-23T06:52:55.647683Z",
          "shell.execute_reply": "2024-09-23T06:52:55.66414Z"
        },
        "trusted": true,
        "id": "0nxDWdo2qEBv",
        "outputId": "e8387f89-40dc-46e3-e3dc-af933b0ea18e"
      },
      "execution_count": null,
      "outputs": [
        {
          "name": "stdout",
          "text": "<learntools.core.constants.PlaceholderValue object at 0x7dbe92f2da80>\n<learntools.core.constants.PlaceholderValue object at 0x7dbe92f2da80>\n",
          "output_type": "stream"
        },
        {
          "output_type": "display_data",
          "data": {
            "text/plain": "<IPython.core.display.Javascript object>",
            "application/javascript": "parent.postMessage({\"jupyterEvent\": \"custom.exercise_interaction\", \"data\": {\"outcomeType\": 4, \"interactionType\": 1, \"questionType\": 1, \"questionId\": \"5_BonusTitanic\", \"learnToolsVersion\": \"0.3.4\", \"valueTowardsCompletion\": 0.0, \"failureMessage\": \"\", \"exceptionClass\": \"\", \"trace\": \"\"}}, \"*\")"
          },
          "metadata": {}
        },
        {
          "output_type": "display_data",
          "data": {
            "text/plain": "Check: When you've updated the starter code, `check()` will tell you whether your code is correct. You need to update the code that creates variables `survived_fraction`, `minors_fraction`",
            "text/markdown": "<span style=\"color:#ccaa33\">Check:</span> When you've updated the starter code, `check()` will tell you whether your code is correct. You need to update the code that creates variables `survived_fraction`, `minors_fraction`"
          },
          "metadata": {}
        }
      ]
    },
    {
      "cell_type": "code",
      "source": [
        "# Uncomment to receive a hint\n",
        "#q5.hint()\n",
        "\n",
        "# Uncomment to view the solution\n",
        "#q5.solution()"
      ],
      "metadata": {
        "execution": {
          "iopub.status.busy": "2024-09-23T06:52:55.667304Z",
          "iopub.execute_input": "2024-09-23T06:52:55.667837Z",
          "iopub.status.idle": "2024-09-23T06:52:55.679203Z",
          "shell.execute_reply.started": "2024-09-23T06:52:55.667785Z",
          "shell.execute_reply": "2024-09-23T06:52:55.677577Z"
        },
        "trusted": true,
        "id": "Wfettrp-qEBw"
      },
      "execution_count": null,
      "outputs": []
    },
    {
      "cell_type": "markdown",
      "source": [
        "# Bonus Exercise\n",
        "\n",
        "As an **optional** next step, you're encouraged to make a submission to the Titanic competition.  \n",
        "> To do this, follow the instructions in the **[notebook here](https://www.kaggle.com/alexisbcook/titanic-tutorial)**.  \n",
        "\n",
        "The notebook is beginner-friendly and does not assume you have any experience with coding.  At the same time, you'll learn how to author your own notebooks on Kaggle, and it gives you a great idea of what you'll be able to do if you continue to learn data science!\n",
        "\n",
        "# Keep going\n",
        "\n",
        "Congratulations!  You have just finished the first exercise in the Intro to Programming course!  \n",
        "\n",
        "You are now ready to learn how to **[organize your code with functions](https://www.kaggle.com/alexisbcook/functions)**."
      ],
      "metadata": {
        "id": "410980f6qEBw"
      }
    },
    {
      "cell_type": "markdown",
      "source": [
        "---\n",
        "\n",
        "\n",
        "\n",
        "\n",
        "*Have questions or comments? Visit the [course discussion forum](https://www.kaggle.com/learn/intro-to-programming/discussion) to chat with other learners.*"
      ],
      "metadata": {
        "id": "So7hyrmqqEBw"
      }
    }
  ]
}