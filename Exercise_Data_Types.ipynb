{
  "metadata": {
    "kernelspec": {
      "display_name": "Python 3",
      "language": "python",
      "name": "python3"
    },
    "language_info": {
      "name": "python",
      "version": "3.10.14",
      "mimetype": "text/x-python",
      "codemirror_mode": {
        "name": "ipython",
        "version": 3
      },
      "pygments_lexer": "ipython3",
      "nbconvert_exporter": "python",
      "file_extension": ".py"
    },
    "papermill": {
      "default_parameters": {},
      "duration": 15.996115,
      "end_time": "2022-02-15T23:56:55.998786",
      "environment_variables": {},
      "exception": null,
      "input_path": "__notebook__.ipynb",
      "output_path": "__notebook__.ipynb",
      "parameters": {},
      "start_time": "2022-02-15T23:56:40.002671",
      "version": "2.3.3"
    },
    "kaggle": {
      "accelerator": "none",
      "dataSources": [],
      "isInternetEnabled": false,
      "language": "python",
      "sourceType": "notebook",
      "isGpuEnabled": false
    },
    "colab": {
      "name": "Exercise: Data Types",
      "provenance": [],
      "include_colab_link": true
    }
  },
  "nbformat_minor": 5,
  "nbformat": 4,
  "cells": [
    {
      "cell_type": "markdown",
      "metadata": {
        "id": "view-in-github",
        "colab_type": "text"
      },
      "source": [
        "<a href=\"https://colab.research.google.com/github/Charlie174/intro_programing_kaggle/blob/main/Exercise_Data_Types.ipynb\" target=\"_parent\"><img src=\"https://colab.research.google.com/assets/colab-badge.svg\" alt=\"Open In Colab\"/></a>"
      ]
    },
    {
      "cell_type": "markdown",
      "source": [
        "**This notebook is an exercise in the [Intro to Programming](https://www.kaggle.com/learn/intro-to-programming) course.  You can reference the tutorial at [this link](https://www.kaggle.com/alexisbcook/data-types).**\n",
        "\n",
        "---\n"
      ],
      "metadata": {
        "id": "IN1G_ZMc6Ty0"
      },
      "id": "IN1G_ZMc6Ty0"
    },
    {
      "cell_type": "markdown",
      "source": [
        "In the tutorial, you learned about four different data types: floats, integers, strings, and booleans.  In this exercise, you'll experiment with them.\n",
        "\n",
        "# Set up the notebook\n",
        "\n",
        "Run the next code cell without changes to set up the notebook."
      ],
      "metadata": {
        "papermill": {
          "duration": 0.024307,
          "end_time": "2022-02-15T23:56:51.875254",
          "exception": false,
          "start_time": "2022-02-15T23:56:51.850947",
          "status": "completed"
        },
        "tags": [],
        "id": "OHkNQHbA6Ty2"
      },
      "id": "OHkNQHbA6Ty2"
    },
    {
      "cell_type": "code",
      "source": [
        "# Set up the exercise\n",
        "from learntools.core import binder\n",
        "binder.bind(globals())\n",
        "from learntools.intro_to_programming.ex3 import *\n",
        "print('Setup complete.')"
      ],
      "metadata": {
        "papermill": {
          "duration": 0.041266,
          "end_time": "2022-02-15T23:56:51.940173",
          "exception": false,
          "start_time": "2022-02-15T23:56:51.898907",
          "status": "completed"
        },
        "tags": [],
        "execution": {
          "iopub.status.busy": "2024-09-23T08:03:40.636862Z",
          "iopub.execute_input": "2024-09-23T08:03:40.637292Z",
          "iopub.status.idle": "2024-09-23T08:03:40.643418Z",
          "shell.execute_reply.started": "2024-09-23T08:03:40.637257Z",
          "shell.execute_reply": "2024-09-23T08:03:40.642385Z"
        },
        "trusted": true,
        "colab": {
          "base_uri": "https://localhost:8080/",
          "height": 383
        },
        "id": "Ss0s8UM_6Ty4",
        "outputId": "40843c65-0c9d-4f40-f317-9e211aa7ab72"
      },
      "execution_count": 1,
      "outputs": [
        {
          "output_type": "error",
          "ename": "ModuleNotFoundError",
          "evalue": "No module named 'learntools'",
          "traceback": [
            "\u001b[0;31m---------------------------------------------------------------------------\u001b[0m",
            "\u001b[0;31mModuleNotFoundError\u001b[0m                       Traceback (most recent call last)",
            "\u001b[0;32m<ipython-input-1-774b39487603>\u001b[0m in \u001b[0;36m<cell line: 2>\u001b[0;34m()\u001b[0m\n\u001b[1;32m      1\u001b[0m \u001b[0;31m# Set up the exercise\u001b[0m\u001b[0;34m\u001b[0m\u001b[0;34m\u001b[0m\u001b[0m\n\u001b[0;32m----> 2\u001b[0;31m \u001b[0;32mfrom\u001b[0m \u001b[0mlearntools\u001b[0m\u001b[0;34m.\u001b[0m\u001b[0mcore\u001b[0m \u001b[0;32mimport\u001b[0m \u001b[0mbinder\u001b[0m\u001b[0;34m\u001b[0m\u001b[0;34m\u001b[0m\u001b[0m\n\u001b[0m\u001b[1;32m      3\u001b[0m \u001b[0mbinder\u001b[0m\u001b[0;34m.\u001b[0m\u001b[0mbind\u001b[0m\u001b[0;34m(\u001b[0m\u001b[0mglobals\u001b[0m\u001b[0;34m(\u001b[0m\u001b[0;34m)\u001b[0m\u001b[0;34m)\u001b[0m\u001b[0;34m\u001b[0m\u001b[0;34m\u001b[0m\u001b[0m\n\u001b[1;32m      4\u001b[0m \u001b[0;32mfrom\u001b[0m \u001b[0mlearntools\u001b[0m\u001b[0;34m.\u001b[0m\u001b[0mintro_to_programming\u001b[0m\u001b[0;34m.\u001b[0m\u001b[0mex3\u001b[0m \u001b[0;32mimport\u001b[0m \u001b[0;34m*\u001b[0m\u001b[0;34m\u001b[0m\u001b[0;34m\u001b[0m\u001b[0m\n\u001b[1;32m      5\u001b[0m \u001b[0mprint\u001b[0m\u001b[0;34m(\u001b[0m\u001b[0;34m'Setup complete.'\u001b[0m\u001b[0;34m)\u001b[0m\u001b[0;34m\u001b[0m\u001b[0;34m\u001b[0m\u001b[0m\n",
            "\u001b[0;31mModuleNotFoundError\u001b[0m: No module named 'learntools'",
            "",
            "\u001b[0;31m---------------------------------------------------------------------------\u001b[0;32m\nNOTE: If your import is failing due to a missing package, you can\nmanually install dependencies using either !pip or !apt.\n\nTo view examples of installing some common dependencies, click the\n\"Open Examples\" button below.\n\u001b[0;31m---------------------------------------------------------------------------\u001b[0m\n"
          ],
          "errorDetails": {
            "actions": [
              {
                "action": "open_url",
                "actionText": "Open Examples",
                "url": "/notebooks/snippets/importing_libraries.ipynb"
              }
            ]
          }
        }
      ],
      "id": "Ss0s8UM_6Ty4"
    },
    {
      "cell_type": "markdown",
      "source": [
        "# Question 1\n",
        "\n",
        "You have seen how to convert a float to an integer with the `int` function.  Try this out yourself by running the code cell below."
      ],
      "metadata": {
        "papermill": {
          "duration": 0.024941,
          "end_time": "2022-02-15T23:56:51.990804",
          "exception": false,
          "start_time": "2022-02-15T23:56:51.965863",
          "status": "completed"
        },
        "tags": [],
        "id": "AAtZ7aX66Ty5"
      },
      "id": "AAtZ7aX66Ty5"
    },
    {
      "cell_type": "code",
      "source": [
        "# Define a float\n",
        "y = 1.\n",
        "print(y)\n",
        "print(type(y))\n",
        "\n",
        "# Convert float to integer with the int function\n",
        "z = int(y)\n",
        "print(z)\n",
        "print(type(z))"
      ],
      "metadata": {
        "papermill": {
          "duration": 0.036351,
          "end_time": "2022-02-15T23:56:52.050571",
          "exception": false,
          "start_time": "2022-02-15T23:56:52.01422",
          "status": "completed"
        },
        "tags": [],
        "execution": {
          "iopub.status.busy": "2024-09-23T08:03:40.653939Z",
          "iopub.execute_input": "2024-09-23T08:03:40.654303Z",
          "iopub.status.idle": "2024-09-23T08:03:40.661357Z",
          "shell.execute_reply.started": "2024-09-23T08:03:40.654265Z",
          "shell.execute_reply": "2024-09-23T08:03:40.660141Z"
        },
        "trusted": true,
        "colab": {
          "base_uri": "https://localhost:8080/"
        },
        "id": "fgVIyjhV6Ty6",
        "outputId": "3c381dcb-b3bc-4ef9-8a5c-adc56eb8ed8d"
      },
      "execution_count": 2,
      "outputs": [
        {
          "output_type": "stream",
          "name": "stdout",
          "text": [
            "1.0\n",
            "<class 'float'>\n",
            "1\n",
            "<class 'int'>\n"
          ]
        }
      ],
      "id": "fgVIyjhV6Ty6"
    },
    {
      "cell_type": "markdown",
      "source": [
        "In this case, the float you are using has no numbers after the decimal.  \n",
        "- But what happens when you try to convert a float with a fractional part to an integer?  \n",
        "- How does the outcome of the `int` function change for positive and negative numbers?\n",
        "\n",
        "Use the next code cell to investigate and answer these questions.  Feel free to add or remove any lines of code -- it is your workspace!"
      ],
      "metadata": {
        "papermill": {
          "duration": 0.015746,
          "end_time": "2022-02-15T23:56:52.082635",
          "exception": false,
          "start_time": "2022-02-15T23:56:52.066889",
          "status": "completed"
        },
        "tags": [],
        "id": "TCzkASbW6Ty6"
      },
      "id": "TCzkASbW6Ty6"
    },
    {
      "cell_type": "code",
      "source": [
        "# Uncomment and run this code to get started!\n",
        "print(int(1.2321))\n",
        "print(int(1.747))\n",
        "print(int(-3.94535))\n",
        "print(int(-2.19774))"
      ],
      "metadata": {
        "papermill": {
          "duration": 0.023189,
          "end_time": "2022-02-15T23:56:52.121169",
          "exception": false,
          "start_time": "2022-02-15T23:56:52.09798",
          "status": "completed"
        },
        "tags": [],
        "execution": {
          "iopub.status.busy": "2024-09-23T08:03:40.663658Z",
          "iopub.execute_input": "2024-09-23T08:03:40.664095Z",
          "iopub.status.idle": "2024-09-23T08:03:40.673688Z",
          "shell.execute_reply.started": "2024-09-23T08:03:40.664045Z",
          "shell.execute_reply": "2024-09-23T08:03:40.672388Z"
        },
        "trusted": true,
        "colab": {
          "base_uri": "https://localhost:8080/"
        },
        "id": "-80-jp2R6Ty7",
        "outputId": "1fe5df63-12e2-4e16-dc43-1c51c03065e8"
      },
      "execution_count": 3,
      "outputs": [
        {
          "output_type": "stream",
          "name": "stdout",
          "text": [
            "1\n",
            "1\n",
            "-3\n",
            "-2\n"
          ]
        }
      ],
      "id": "-80-jp2R6Ty7"
    },
    {
      "cell_type": "markdown",
      "source": [
        "Once you have an answer, run the code cell below to see the solution.  Viewing the solution will give you credit for answering the problem."
      ],
      "metadata": {
        "papermill": {
          "duration": 0.015044,
          "end_time": "2022-02-15T23:56:52.153268",
          "exception": false,
          "start_time": "2022-02-15T23:56:52.138224",
          "status": "completed"
        },
        "tags": [],
        "id": "h-Okhwmd6Ty7"
      },
      "id": "h-Okhwmd6Ty7"
    },
    {
      "cell_type": "code",
      "source": [
        "# Check your answer (Run this code cell to receive credit!)\n",
        "q1.check()"
      ],
      "metadata": {
        "papermill": {
          "duration": 0.022309,
          "end_time": "2022-02-15T23:56:52.19068",
          "exception": false,
          "start_time": "2022-02-15T23:56:52.168371",
          "status": "completed"
        },
        "tags": [],
        "execution": {
          "iopub.status.busy": "2024-09-23T08:03:40.675137Z",
          "iopub.execute_input": "2024-09-23T08:03:40.675553Z",
          "iopub.status.idle": "2024-09-23T08:03:40.68885Z",
          "shell.execute_reply.started": "2024-09-23T08:03:40.675482Z",
          "shell.execute_reply": "2024-09-23T08:03:40.687567Z"
        },
        "trusted": true,
        "colab": {
          "base_uri": "https://localhost:8080/",
          "height": 158
        },
        "id": "G5fN-5fh6Ty8",
        "outputId": "946ef98a-d7be-4461-e126-599a6230c6c1"
      },
      "execution_count": 4,
      "outputs": [
        {
          "output_type": "error",
          "ename": "NameError",
          "evalue": "name 'q1' is not defined",
          "traceback": [
            "\u001b[0;31m---------------------------------------------------------------------------\u001b[0m",
            "\u001b[0;31mNameError\u001b[0m                                 Traceback (most recent call last)",
            "\u001b[0;32m<ipython-input-4-c061ad6c71e7>\u001b[0m in \u001b[0;36m<cell line: 2>\u001b[0;34m()\u001b[0m\n\u001b[1;32m      1\u001b[0m \u001b[0;31m# Check your answer (Run this code cell to receive credit!)\u001b[0m\u001b[0;34m\u001b[0m\u001b[0;34m\u001b[0m\u001b[0m\n\u001b[0;32m----> 2\u001b[0;31m \u001b[0mq1\u001b[0m\u001b[0;34m.\u001b[0m\u001b[0mcheck\u001b[0m\u001b[0;34m(\u001b[0m\u001b[0;34m)\u001b[0m\u001b[0;34m\u001b[0m\u001b[0;34m\u001b[0m\u001b[0m\n\u001b[0m",
            "\u001b[0;31mNameError\u001b[0m: name 'q1' is not defined"
          ]
        }
      ],
      "id": "G5fN-5fh6Ty8"
    },
    {
      "cell_type": "markdown",
      "source": [
        "# Question 2\n",
        "\n",
        "In the tutorial, you learned about booleans (which can take a value of `True` or `False`), in addition to integers, floats, and strings.  For this question, your goal is to determine what happens when you multiply a boolean by any of these data types.  Specifically,\n",
        "- What happens when you multiply an integer or float by `True`?  What happens when you multiply them by `False`?  How does the answer change if the numbers are positive or negative?\n",
        "- What happens when you multiply a string by `True`?  By `False`?\n",
        "\n",
        "Use the next code cell for your investigation."
      ],
      "metadata": {
        "papermill": {
          "duration": 0.015624,
          "end_time": "2022-02-15T23:56:52.222102",
          "exception": false,
          "start_time": "2022-02-15T23:56:52.206478",
          "status": "completed"
        },
        "tags": [],
        "id": "fCNV95vN6Ty8"
      },
      "id": "fCNV95vN6Ty8"
    },
    {
      "cell_type": "code",
      "source": [
        "# Uncomment and run this code to get started!\n",
        "print(3 * True)\n",
        "print(-3.1 * True)\n",
        "print(type(\"abc\" * False))\n",
        "print(len(\"abc\" * False))"
      ],
      "metadata": {
        "papermill": {
          "duration": 0.026529,
          "end_time": "2022-02-15T23:56:52.26436",
          "exception": false,
          "start_time": "2022-02-15T23:56:52.237831",
          "status": "completed"
        },
        "tags": [],
        "execution": {
          "iopub.status.busy": "2024-09-23T08:03:40.691754Z",
          "iopub.execute_input": "2024-09-23T08:03:40.692188Z",
          "iopub.status.idle": "2024-09-23T08:03:40.698854Z",
          "shell.execute_reply.started": "2024-09-23T08:03:40.692136Z",
          "shell.execute_reply": "2024-09-23T08:03:40.697772Z"
        },
        "trusted": true,
        "id": "W5oi8t9X6Ty8"
      },
      "execution_count": null,
      "outputs": [],
      "id": "W5oi8t9X6Ty8"
    },
    {
      "cell_type": "markdown",
      "source": [
        "Once you have an answer, run the code cell below to see the solution.  Viewing the solution will give you credit for answering the problem."
      ],
      "metadata": {
        "papermill": {
          "duration": 0.024547,
          "end_time": "2022-02-15T23:56:52.314813",
          "exception": false,
          "start_time": "2022-02-15T23:56:52.290266",
          "status": "completed"
        },
        "tags": [],
        "id": "WgANNHA_6Ty8"
      },
      "id": "WgANNHA_6Ty8"
    },
    {
      "cell_type": "code",
      "source": [
        "# Check your answer (Run this code cell to receive credit!)\n",
        "q2.check()"
      ],
      "metadata": {
        "papermill": {
          "duration": 0.033338,
          "end_time": "2022-02-15T23:56:52.372842",
          "exception": false,
          "start_time": "2022-02-15T23:56:52.339504",
          "status": "completed"
        },
        "tags": [],
        "execution": {
          "iopub.status.busy": "2024-09-23T08:03:40.700401Z",
          "iopub.execute_input": "2024-09-23T08:03:40.701188Z",
          "iopub.status.idle": "2024-09-23T08:03:40.712611Z",
          "shell.execute_reply.started": "2024-09-23T08:03:40.701132Z",
          "shell.execute_reply": "2024-09-23T08:03:40.711444Z"
        },
        "trusted": true,
        "id": "UUIwqEHw6Ty9"
      },
      "execution_count": null,
      "outputs": [],
      "id": "UUIwqEHw6Ty9"
    },
    {
      "cell_type": "markdown",
      "source": [
        "# Question 3\n",
        "\n",
        "In this question, you will build off your work from the previous exercise to write a function that estimates the value of a house.\n",
        "\n",
        "Use the next code cell to create a function `get_expected_cost` that takes as input three variables:\n",
        "- `beds` - number of bedrooms (data type float)\n",
        "- `baths` - number of bathrooms (data type float)\n",
        "- `has_basement` - whether or not the house has a basement (data type boolean)\n",
        "\n",
        "It should return the expected cost of a house with those characteristics. Assume that:\n",
        "- the expected cost for a house with 0 bedrooms and 0 bathrooms, and no basement is 80000,\n",
        "- each bedroom adds 30000 to the expected cost,\n",
        "- each bathroom adds 10000 to the expected cost, and\n",
        "- a basement adds 40000 to the expected cost.\n",
        "\n",
        "For instance,\n",
        "- a house with 1 bedroom, 1 bathroom, and no basement has an expected cost of 80000 + 30000 + 10000 = 120000.  This value will be calculated with `get_expected_cost(1, 1, False)`.\n",
        "- a house with 2 bedrooms, 1 bathroom, and a basement has an expected cost of 80000 + 2*30000 + 10000 + 40000 = 190000.  This value will be calculated with `get_expected_cost(2, 1, True)`.\n",
        "\n",
        "Remember you can always get a hint by uncommenting `q3.hint()` in the code cell following the next!"
      ],
      "metadata": {
        "papermill": {
          "duration": 0.024657,
          "end_time": "2022-02-15T23:56:52.423541",
          "exception": false,
          "start_time": "2022-02-15T23:56:52.398884",
          "status": "completed"
        },
        "tags": [],
        "id": "Zn3Wnn1O6Ty9"
      },
      "id": "Zn3Wnn1O6Ty9"
    },
    {
      "cell_type": "code",
      "source": [
        "# TODO: Complete the function\n",
        "def get_expected_cost(beds, baths, has_basement):\n",
        "    value = 80000 + beds*30000 + baths*10000 + has_basement*40000\n",
        "    return value\n",
        "\n",
        "# Check your answer\n",
        "q3.check()"
      ],
      "metadata": {
        "papermill": {
          "duration": 0.033124,
          "end_time": "2022-02-15T23:56:52.48129",
          "exception": false,
          "start_time": "2022-02-15T23:56:52.448166",
          "status": "completed"
        },
        "tags": [],
        "execution": {
          "iopub.status.busy": "2024-09-23T08:03:40.71415Z",
          "iopub.execute_input": "2024-09-23T08:03:40.714558Z",
          "iopub.status.idle": "2024-09-23T08:03:40.724783Z",
          "shell.execute_reply.started": "2024-09-23T08:03:40.714509Z",
          "shell.execute_reply": "2024-09-23T08:03:40.723673Z"
        },
        "trusted": true,
        "id": "QcxsQdWB6Ty9"
      },
      "execution_count": null,
      "outputs": [],
      "id": "QcxsQdWB6Ty9"
    },
    {
      "cell_type": "code",
      "source": [
        "# Uncomment to see a hint\n",
        "#q3.hint()\n",
        "\n",
        "# Uncomment to view the solution\n",
        "#q3.solution()"
      ],
      "metadata": {
        "papermill": {
          "duration": 0.032803,
          "end_time": "2022-02-15T23:56:52.53896",
          "exception": false,
          "start_time": "2022-02-15T23:56:52.506157",
          "status": "completed"
        },
        "tags": [],
        "execution": {
          "iopub.status.busy": "2024-09-23T08:03:40.726378Z",
          "iopub.execute_input": "2024-09-23T08:03:40.726776Z",
          "iopub.status.idle": "2024-09-23T08:03:40.731553Z",
          "shell.execute_reply.started": "2024-09-23T08:03:40.726739Z",
          "shell.execute_reply": "2024-09-23T08:03:40.73027Z"
        },
        "trusted": true,
        "id": "H-zB_1K36Ty9"
      },
      "execution_count": null,
      "outputs": [],
      "id": "H-zB_1K36Ty9"
    },
    {
      "cell_type": "markdown",
      "source": [
        "# Question 4\n",
        "\n",
        "We'll continue our study of boolean arithmetic.  For this question, your task is to provide a description of what happpens when you add booleans.\n",
        "\n",
        "Use the next code cell for your investigation.  Feel free to add or remove any lines of code - use it as your workspace!"
      ],
      "metadata": {
        "papermill": {
          "duration": 0.02506,
          "end_time": "2022-02-15T23:56:52.588859",
          "exception": false,
          "start_time": "2022-02-15T23:56:52.563799",
          "status": "completed"
        },
        "tags": [],
        "id": "LG8fEcUd6Ty9"
      },
      "id": "LG8fEcUd6Ty9"
    },
    {
      "cell_type": "code",
      "source": [
        "print(False + False)\n",
        "print(True + False)\n",
        "print(False + True)\n",
        "print(True + True)\n",
        "print(False + True + True + True)"
      ],
      "metadata": {
        "papermill": {
          "duration": 0.034215,
          "end_time": "2022-02-15T23:56:52.649292",
          "exception": false,
          "start_time": "2022-02-15T23:56:52.615077",
          "status": "completed"
        },
        "tags": [],
        "execution": {
          "iopub.status.busy": "2024-09-23T08:03:40.733234Z",
          "iopub.execute_input": "2024-09-23T08:03:40.733579Z",
          "iopub.status.idle": "2024-09-23T08:03:40.743029Z",
          "shell.execute_reply.started": "2024-09-23T08:03:40.733543Z",
          "shell.execute_reply": "2024-09-23T08:03:40.741995Z"
        },
        "trusted": true,
        "id": "Nis1bLDD6Ty9"
      },
      "execution_count": null,
      "outputs": [],
      "id": "Nis1bLDD6Ty9"
    },
    {
      "cell_type": "markdown",
      "source": [
        "Once you have an answer, run the code cell below to see the solution.  Viewing the solution will give you credit for answering the problem."
      ],
      "metadata": {
        "papermill": {
          "duration": 0.025079,
          "end_time": "2022-02-15T23:56:52.700169",
          "exception": false,
          "start_time": "2022-02-15T23:56:52.67509",
          "status": "completed"
        },
        "tags": [],
        "id": "dpz0bPau6Ty-"
      },
      "id": "dpz0bPau6Ty-"
    },
    {
      "cell_type": "code",
      "source": [
        "# Check your answer (Run this code cell to receive credit!)\n",
        "q4.check()"
      ],
      "metadata": {
        "papermill": {
          "duration": 0.031532,
          "end_time": "2022-02-15T23:56:52.761705",
          "exception": false,
          "start_time": "2022-02-15T23:56:52.730173",
          "status": "completed"
        },
        "tags": [],
        "execution": {
          "iopub.status.busy": "2024-09-23T08:03:40.746282Z",
          "iopub.execute_input": "2024-09-23T08:03:40.7468Z",
          "iopub.status.idle": "2024-09-23T08:03:40.758906Z",
          "shell.execute_reply.started": "2024-09-23T08:03:40.746761Z",
          "shell.execute_reply": "2024-09-23T08:03:40.75764Z"
        },
        "trusted": true,
        "id": "rlIxpb0I6Ty-"
      },
      "execution_count": null,
      "outputs": [],
      "id": "rlIxpb0I6Ty-"
    },
    {
      "cell_type": "markdown",
      "source": [
        "# 🌶️ Question 5\n",
        "\n",
        "You own an online shop where you sell rings with custom engravings.  You offer both gold plated and solid gold rings.\n",
        "- Gold plated rings have a base cost of \\\\$50, and you charge \\\\$7 per engraved unit.  \n",
        "- Solid gold rings have a base cost of \\\\$100, and you charge \\\\$10 per engraved unit.\n",
        "- Spaces and punctuation are counted as engraved units.\n",
        "\n",
        "Write a function `cost_of_project()` that takes two arguments:\n",
        "- `engraving` - a Python string with the text of the engraving\n",
        "- `solid_gold` - a Boolean that indicates whether the ring is solid gold\n",
        "\n",
        "It should return the cost of the project.  This question should be fairly challenging, and you may need a hint."
      ],
      "metadata": {
        "papermill": {
          "duration": 0.024396,
          "end_time": "2022-02-15T23:56:52.81114",
          "exception": false,
          "start_time": "2022-02-15T23:56:52.786744",
          "status": "completed"
        },
        "tags": [],
        "id": "8sisJGhD6Ty-"
      },
      "id": "8sisJGhD6Ty-"
    },
    {
      "cell_type": "code",
      "source": [
        "def cost_of_project(engraving, solid_gold):\n",
        "    if solid_gold:\n",
        "        eng_unit = 10\n",
        "        cost = 100 + len(engraving)*10\n",
        "    else:\n",
        "        eng_unit = 10\n",
        "        cost = 50 + len(engraving)*7\n",
        "    return cost\n",
        "\n",
        "# Check your answer\n",
        "q5.check()"
      ],
      "metadata": {
        "papermill": {
          "duration": 0.034931,
          "end_time": "2022-02-15T23:56:52.871015",
          "exception": false,
          "start_time": "2022-02-15T23:56:52.836084",
          "status": "completed"
        },
        "tags": [],
        "execution": {
          "iopub.status.busy": "2024-09-23T08:03:40.760587Z",
          "iopub.execute_input": "2024-09-23T08:03:40.761012Z",
          "iopub.status.idle": "2024-09-23T08:03:40.771933Z",
          "shell.execute_reply.started": "2024-09-23T08:03:40.760964Z",
          "shell.execute_reply": "2024-09-23T08:03:40.770796Z"
        },
        "trusted": true,
        "id": "OHa5_Qt16Ty-"
      },
      "execution_count": null,
      "outputs": [],
      "id": "OHa5_Qt16Ty-"
    },
    {
      "cell_type": "code",
      "source": [
        "# Uncomment to see a hint\n",
        "#q5.hint()\n",
        "\n",
        "# Uncomment to view the solution\n",
        "#q5.solution()"
      ],
      "metadata": {
        "papermill": {
          "duration": 0.032387,
          "end_time": "2022-02-15T23:56:52.929176",
          "exception": false,
          "start_time": "2022-02-15T23:56:52.896789",
          "status": "completed"
        },
        "tags": [],
        "execution": {
          "iopub.status.busy": "2024-09-23T08:03:40.774392Z",
          "iopub.execute_input": "2024-09-23T08:03:40.775358Z",
          "iopub.status.idle": "2024-09-23T08:03:40.779961Z",
          "shell.execute_reply.started": "2024-09-23T08:03:40.775304Z",
          "shell.execute_reply": "2024-09-23T08:03:40.778931Z"
        },
        "trusted": true,
        "id": "3BvWy2DK6Ty-"
      },
      "execution_count": null,
      "outputs": [],
      "id": "3BvWy2DK6Ty-"
    },
    {
      "cell_type": "markdown",
      "source": [
        "Run the next code cell to calculate the cost of engraving `Charlie+Denver` on a solid gold ring."
      ],
      "metadata": {
        "papermill": {
          "duration": 0.025442,
          "end_time": "2022-02-15T23:56:52.981178",
          "exception": false,
          "start_time": "2022-02-15T23:56:52.955736",
          "status": "completed"
        },
        "tags": [],
        "id": "QsJnhlDt6Ty-"
      },
      "id": "QsJnhlDt6Ty-"
    },
    {
      "cell_type": "code",
      "source": [
        "project_one = cost_of_project(\"Charlie+Denver\", True)\n",
        "print(project_one)"
      ],
      "metadata": {
        "papermill": {
          "duration": 0.033363,
          "end_time": "2022-02-15T23:56:53.041309",
          "exception": false,
          "start_time": "2022-02-15T23:56:53.007946",
          "status": "completed"
        },
        "tags": [],
        "execution": {
          "iopub.status.busy": "2024-09-23T08:03:40.781537Z",
          "iopub.execute_input": "2024-09-23T08:03:40.781923Z",
          "iopub.status.idle": "2024-09-23T08:03:40.79162Z",
          "shell.execute_reply.started": "2024-09-23T08:03:40.781872Z",
          "shell.execute_reply": "2024-09-23T08:03:40.790504Z"
        },
        "trusted": true,
        "id": "eQBN4GZY6Ty_"
      },
      "execution_count": null,
      "outputs": [],
      "id": "eQBN4GZY6Ty_"
    },
    {
      "cell_type": "markdown",
      "source": [
        "Use the next code cell to calculate the cost of engraving `08/10/2000` on a gold plated ring."
      ],
      "metadata": {
        "papermill": {
          "duration": 0.025504,
          "end_time": "2022-02-15T23:56:53.093394",
          "exception": false,
          "start_time": "2022-02-15T23:56:53.06789",
          "status": "completed"
        },
        "tags": [],
        "id": "BaHxekWv6Ty_"
      },
      "id": "BaHxekWv6Ty_"
    },
    {
      "cell_type": "code",
      "source": [
        "project_two = cost_of_project(\"08/10/2000\", False)\n",
        "print(project_two)"
      ],
      "metadata": {
        "papermill": {
          "duration": 0.03374,
          "end_time": "2022-02-15T23:56:53.154559",
          "exception": false,
          "start_time": "2022-02-15T23:56:53.120819",
          "status": "completed"
        },
        "tags": [],
        "execution": {
          "iopub.status.busy": "2024-09-23T08:03:40.793211Z",
          "iopub.execute_input": "2024-09-23T08:03:40.793595Z",
          "iopub.status.idle": "2024-09-23T08:03:40.80141Z",
          "shell.execute_reply.started": "2024-09-23T08:03:40.793534Z",
          "shell.execute_reply": "2024-09-23T08:03:40.800248Z"
        },
        "trusted": true,
        "id": "QH7ZV5Zf6Ty_"
      },
      "execution_count": null,
      "outputs": [],
      "id": "QH7ZV5Zf6Ty_"
    },
    {
      "cell_type": "markdown",
      "source": [
        "# Keep going\n",
        "\n",
        "Continue to the next lesson to **[learn about conditions and conditional statements](https://www.kaggle.com/alexisbcook/conditions-and-conditional-statements)**."
      ],
      "metadata": {
        "papermill": {
          "duration": 0.016828,
          "end_time": "2022-02-15T23:56:53.189102",
          "exception": false,
          "start_time": "2022-02-15T23:56:53.172274",
          "status": "completed"
        },
        "tags": [],
        "id": "YMl0ZamL6Ty_"
      },
      "id": "YMl0ZamL6Ty_"
    },
    {
      "cell_type": "markdown",
      "source": [
        "---\n",
        "\n",
        "\n",
        "\n",
        "\n",
        "*Have questions or comments? Visit the [course discussion forum](https://www.kaggle.com/learn/intro-to-programming/discussion) to chat with other learners.*"
      ],
      "metadata": {
        "id": "FM0u4gPB6Ty_"
      },
      "id": "FM0u4gPB6Ty_"
    }
  ]
}